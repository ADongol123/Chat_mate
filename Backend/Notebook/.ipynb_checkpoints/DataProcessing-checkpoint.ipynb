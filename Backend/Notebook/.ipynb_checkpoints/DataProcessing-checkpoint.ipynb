{
 "cells": [
  {
   "cell_type": "code",
   "execution_count": 1,
   "id": "cf39a82f-09a4-4106-810a-fa901db77ea7",
   "metadata": {},
   "outputs": [
    {
     "name": "stderr",
     "output_type": "stream",
     "text": [
      "E:\\Chat_mate\\backend\\venv\\Lib\\site-packages\\tqdm\\auto.py:21: TqdmWarning: IProgress not found. Please update jupyter and ipywidgets. See https://ipywidgets.readthedocs.io/en/stable/user_install.html\n",
      "  from .autonotebook import tqdm as notebook_tqdm\n"
     ]
    }
   ],
   "source": [
    "import requests\n",
    "import gzip\n",
    "import json\n",
    "import pandas as pd\n",
    "import numpy as np \n",
    "import torch\n",
    "from transformers import pipeline "
   ]
  },
  {
   "cell_type": "code",
   "execution_count": 2,
   "id": "e6b8bd30-b5ea-46ad-81f9-cfa50f3f18e1",
   "metadata": {},
   "outputs": [
    {
     "data": {
      "text/plain": [
       "'cuda'"
      ]
     },
     "execution_count": 2,
     "metadata": {},
     "output_type": "execute_result"
    }
   ],
   "source": [
    "device = 'cuda' if torch.cuda.is_available() else 'cpu'\n",
    "device"
   ]
  },
  {
   "cell_type": "code",
   "execution_count": 3,
   "id": "c074ff87-5575-4816-a8c2-70fd66df0326",
   "metadata": {},
   "outputs": [],
   "source": [
    "categories_df = pd.read_csv(\"../data/amazon_categories.csv\")\n",
    "product_df = pd.read_csv(\"../data/amazon_products.csv\")"
   ]
  },
  {
   "cell_type": "code",
   "execution_count": 4,
   "id": "7856d675-ebc5-4a0e-b973-2a2d209feee8",
   "metadata": {},
   "outputs": [
    {
     "data": {
      "text/html": [
       "<div>\n",
       "<style scoped>\n",
       "    .dataframe tbody tr th:only-of-type {\n",
       "        vertical-align: middle;\n",
       "    }\n",
       "\n",
       "    .dataframe tbody tr th {\n",
       "        vertical-align: top;\n",
       "    }\n",
       "\n",
       "    .dataframe thead th {\n",
       "        text-align: right;\n",
       "    }\n",
       "</style>\n",
       "<table border=\"1\" class=\"dataframe\">\n",
       "  <thead>\n",
       "    <tr style=\"text-align: right;\">\n",
       "      <th></th>\n",
       "      <th>id</th>\n",
       "      <th>category_name</th>\n",
       "    </tr>\n",
       "  </thead>\n",
       "  <tbody>\n",
       "    <tr>\n",
       "      <th>0</th>\n",
       "      <td>1</td>\n",
       "      <td>Beading &amp; Jewelry Making</td>\n",
       "    </tr>\n",
       "  </tbody>\n",
       "</table>\n",
       "</div>"
      ],
      "text/plain": [
       "   id             category_name\n",
       "0   1  Beading & Jewelry Making"
      ]
     },
     "execution_count": 4,
     "metadata": {},
     "output_type": "execute_result"
    }
   ],
   "source": [
    "categories_df.head(1)"
   ]
  },
  {
   "cell_type": "code",
   "execution_count": 5,
   "id": "b50252e8-1181-4387-8baa-f2b5d2d95a24",
   "metadata": {},
   "outputs": [
    {
     "data": {
      "text/plain": [
       "Index(['asin', 'title', 'imgUrl', 'productURL', 'stars', 'reviews', 'price',\n",
       "       'listPrice', 'category_id', 'isBestSeller', 'boughtInLastMonth'],\n",
       "      dtype='object')"
      ]
     },
     "execution_count": 5,
     "metadata": {},
     "output_type": "execute_result"
    }
   ],
   "source": [
    "product_df.columns"
   ]
  },
  {
   "cell_type": "code",
   "execution_count": 6,
   "id": "9982960e-5614-4899-aef1-11b3bcc057f6",
   "metadata": {},
   "outputs": [],
   "source": [
    "def create_prompt(row):\n",
    "    prompt = \"You are a product description generator. Given structured product data, write a clear and attractive product summary paragraph.\\n\\nHere is the product data:\\n\"\n",
    "    for col, val in row.items():\n",
    "        if pd.notna(val) and str(val).strip():\n",
    "            prompt += f\"- {col}: {val}\\n\"\n",
    "    prompt += \"\\nOutput:\"\n",
    "    return prompt\n"
   ]
  },
  {
   "cell_type": "code",
   "execution_count": 7,
   "id": "40ec7315-7a4b-4a81-991f-6c3622fbf810",
   "metadata": {},
   "outputs": [
    {
     "name": "stdout",
     "output_type": "stream",
     "text": [
      "Write a brief description for this product with these details:\n",
      "asin: B014TMV5YE\n",
      "title: Sion Softside Expandable Roller Luggage, Black, Checked-Large 29-Inch\n",
      "imgUrl: https://m.media-amazon.com/images/I/815dLQKYIYL._AC_UL320_.jpg\n",
      "productURL: https://www.amazon.com/dp/B014TMV5YE\n",
      "stars: 4.5\n",
      "reviews: 0\n",
      "price: 139.99\n",
      "listPrice: 0.0\n",
      "category_id: 104\n",
      "isBestSeller: False\n",
      "boughtInLastMonth: 2000\n",
      "\n"
     ]
    }
   ],
   "source": [
    "first_row = product_df.iloc[0].to_dict()\n",
    "\n",
    "prompt = \"Write a brief description for this product with these details:\\n\"\n",
    "\n",
    "for key, value in first_row.items():\n",
    "    prompt += f\"{key}: {value}\\n\"\n",
    "\n",
    "print(prompt)"
   ]
  },
  {
   "cell_type": "code",
   "execution_count": 8,
   "id": "08e1697c-05d6-4a31-9c3a-a357da2c4c76",
   "metadata": {},
   "outputs": [
    {
     "name": "stdout",
     "output_type": "stream",
     "text": [
      " Experience the Sion Softside Expandable Roller Luggage, a stylish and practical choice for your travel needs. This checked-large 29-inch luggage, available in black, is currently priced at $139.99. Although it doesn't have any reviews yet, it boasts a promising 4.5 stars rating. Featuring an expandable design and a sleek softside construction, this roller luggage offers ample space for your belongings. With over 2000 pieces sold within the last month, you can trust in its quality. Purchase now at [productURL]. The product image can be found at [imgUrl].\n"
     ]
    }
   ],
   "source": [
    "\n",
    "response = requests.post(\n",
    "    \"http://localhost:11434/api/generate\",\n",
    "    json={\n",
    "        \"model\": \"mistral\",     # Change this if your model has a different name\n",
    "        \"prompt\": prompt,\n",
    "        \"stream\": False\n",
    "    }\n",
    ")\n",
    "\n",
    "# Output the response\n",
    "print(response.json()[\"response\"])\n"
   ]
  },
  {
   "cell_type": "code",
   "execution_count": 9,
   "id": "e4658a2f-ce6c-4469-8fbe-64483e0277ae",
   "metadata": {},
   "outputs": [],
   "source": [
    "first_row['summary'] = response.json()[\"response\"]"
   ]
  },
  {
   "cell_type": "code",
   "execution_count": 10,
   "id": "9e44e719-49c3-41a7-803c-987a97ccf11f",
   "metadata": {},
   "outputs": [
    {
     "data": {
      "text/plain": [
       "{'asin': 'B014TMV5YE',\n",
       " 'title': 'Sion Softside Expandable Roller Luggage, Black, Checked-Large 29-Inch',\n",
       " 'imgUrl': 'https://m.media-amazon.com/images/I/815dLQKYIYL._AC_UL320_.jpg',\n",
       " 'productURL': 'https://www.amazon.com/dp/B014TMV5YE',\n",
       " 'stars': 4.5,\n",
       " 'reviews': 0,\n",
       " 'price': 139.99,\n",
       " 'listPrice': 0.0,\n",
       " 'category_id': 104,\n",
       " 'isBestSeller': False,\n",
       " 'boughtInLastMonth': 2000,\n",
       " 'summary': \" Experience the Sion Softside Expandable Roller Luggage, a stylish and practical choice for your travel needs. This checked-large 29-inch luggage, available in black, is currently priced at $139.99. Although it doesn't have any reviews yet, it boasts a promising 4.5 stars rating. Featuring an expandable design and a sleek softside construction, this roller luggage offers ample space for your belongings. With over 2000 pieces sold within the last month, you can trust in its quality. Purchase now at [productURL]. The product image can be found at [imgUrl].\"}"
      ]
     },
     "execution_count": 10,
     "metadata": {},
     "output_type": "execute_result"
    }
   ],
   "source": [
    "first_row"
   ]
  },
  {
   "cell_type": "code",
   "execution_count": 33,
   "id": "4fe556d3-ec30-4be0-b59e-d0669aa7cb7d",
   "metadata": {},
   "outputs": [],
   "source": [
    "Best_Seller = product_df['isBestSeller'] == True"
   ]
  },
  {
   "cell_type": "code",
   "execution_count": 39,
   "id": "1ec6a50e-353a-44e8-8b78-d9a1e67d6e33",
   "metadata": {},
   "outputs": [
    {
     "data": {
      "text/plain": [
       "222"
      ]
     },
     "execution_count": 39,
     "metadata": {},
     "output_type": "execute_result"
    }
   ],
   "source": [
    "best_selling_product = product_df[Best_Seller]\n",
    "best_selling_product['category_id'].nunique()"
   ]
  },
  {
   "cell_type": "markdown",
   "id": "1fbd770f-dddd-4f55-a5d2-9035b93ae36c",
   "metadata": {},
   "source": [
    "## Test 2 "
   ]
  },
  {
   "cell_type": "code",
   "execution_count": null,
   "id": "2e71f28d-cc4f-44ef-8fcb-59a19c996729",
   "metadata": {},
   "outputs": [],
   "source": [
    "# Clean column names\n",
    "df.columns = df.columns.str.strip().str.lower()\n",
    "\n",
    "\n",
    "# Fill missing values with sensible defaults\n",
    "df.fillna({\n",
    "    'title':'No title',\n",
    "    'stars': 0.0,\n",
    "    'reviews':0,\n",
    "    'price': '0',\n",
    "    'listprice' : '0',\n",
    "    'category_id' : 'unknown',\n",
    "    'isbestseller': False,\n",
    "    'boughtinlastmonth': 0})\n"
   ]
  }
 ],
 "metadata": {
  "kernelspec": {
   "display_name": "chat-mate",
   "language": "python",
   "name": "venv"
  },
  "language_info": {
   "codemirror_mode": {
    "name": "ipython",
    "version": 3
   },
   "file_extension": ".py",
   "mimetype": "text/x-python",
   "name": "python",
   "nbconvert_exporter": "python",
   "pygments_lexer": "ipython3",
   "version": "3.12.0"
  }
 },
 "nbformat": 4,
 "nbformat_minor": 5
}
