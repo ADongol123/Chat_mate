{
 "cells": [
  {
   "cell_type": "code",
   "execution_count": null,
   "id": "4cd0d821-1f24-46af-b808-81aee132894f",
   "metadata": {},
   "outputs": [],
   "source": []
  }
 ],
 "metadata": {
  "kernelspec": {
   "display_name": "",
   "name": ""
  },
  "language_info": {
   "name": ""
  }
 },
 "nbformat": 4,
 "nbformat_minor": 5
}
