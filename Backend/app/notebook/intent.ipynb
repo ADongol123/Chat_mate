{
 "cells": [
  {
   "cell_type": "code",
   "execution_count": 51,
   "id": "eb58ab77",
   "metadata": {},
   "outputs": [],
   "source": [
    "from fastapi import FastAPI\n",
    "from sentence_transformers import SentenceTransformer\n",
    "from sklearn.linear_model import LogisticRegression\n",
    "from sklearn.metrics import classification_report\n",
    "import faiss\n",
    "import numpy as np \n",
    "import pandas as pd\n",
    "import json\n",
    "import pickle"
   ]
  },
  {
   "cell_type": "code",
   "execution_count": 44,
   "id": "7821d3b0-91e0-4aaf-8f52-c9adca0db973",
   "metadata": {},
   "outputs": [],
   "source": [
    "file_path = \"../data/intent_dataset.json\"\n",
    "\n",
    "try:\n",
    "    with open(file_path,'r') as f:\n",
    "        data = json.load(f)\n",
    "except FileNotFoundError:\n",
    "    print(f\"Error: File not found at {file_path}\")\n",
    "except json.JSONDecodeError:\n",
    "    print(f\"Error: Count not decode JSON from {file_path}\")\n"
   ]
  },
  {
   "cell_type": "code",
   "execution_count": 45,
   "id": "e84be23a-885b-4db5-bc01-b0bb7068e517",
   "metadata": {},
   "outputs": [
    {
     "data": {
      "text/html": [
       "<div>\n",
       "<style scoped>\n",
       "    .dataframe tbody tr th:only-of-type {\n",
       "        vertical-align: middle;\n",
       "    }\n",
       "\n",
       "    .dataframe tbody tr th {\n",
       "        vertical-align: top;\n",
       "    }\n",
       "\n",
       "    .dataframe thead th {\n",
       "        text-align: right;\n",
       "    }\n",
       "</style>\n",
       "<table border=\"1\" class=\"dataframe\">\n",
       "  <thead>\n",
       "    <tr style=\"text-align: right;\">\n",
       "      <th></th>\n",
       "      <th>query</th>\n",
       "      <th>intent</th>\n",
       "    </tr>\n",
       "  </thead>\n",
       "  <tbody>\n",
       "    <tr>\n",
       "      <th>0</th>\n",
       "      <td>I forgot my password.</td>\n",
       "      <td>technical-support</td>\n",
       "    </tr>\n",
       "    <tr>\n",
       "      <th>1</th>\n",
       "      <td>I need technical support.</td>\n",
       "      <td>technical-support</td>\n",
       "    </tr>\n",
       "    <tr>\n",
       "      <th>2</th>\n",
       "      <td>How do I reset my password?</td>\n",
       "      <td>technical-support</td>\n",
       "    </tr>\n",
       "    <tr>\n",
       "      <th>3</th>\n",
       "      <td>How do I update my email?</td>\n",
       "      <td>account-management</td>\n",
       "    </tr>\n",
       "    <tr>\n",
       "      <th>4</th>\n",
       "      <td>How do I reset my password?</td>\n",
       "      <td>technical-support</td>\n",
       "    </tr>\n",
       "    <tr>\n",
       "      <th>...</th>\n",
       "      <td>...</td>\n",
       "      <td>...</td>\n",
       "    </tr>\n",
       "    <tr>\n",
       "      <th>4995</th>\n",
       "      <td>Can I update my account details?</td>\n",
       "      <td>account-management</td>\n",
       "    </tr>\n",
       "    <tr>\n",
       "      <th>4996</th>\n",
       "      <td>How can I reset my account?</td>\n",
       "      <td>account-management</td>\n",
       "    </tr>\n",
       "    <tr>\n",
       "      <th>4997</th>\n",
       "      <td>Can I update my account details?</td>\n",
       "      <td>account-management</td>\n",
       "    </tr>\n",
       "    <tr>\n",
       "      <th>4998</th>\n",
       "      <td>I can’t log in to my account.</td>\n",
       "      <td>technical-support</td>\n",
       "    </tr>\n",
       "    <tr>\n",
       "      <th>4999</th>\n",
       "      <td>Tell me about your services.</td>\n",
       "      <td>general-inquiry</td>\n",
       "    </tr>\n",
       "  </tbody>\n",
       "</table>\n",
       "<p>5000 rows × 2 columns</p>\n",
       "</div>"
      ],
      "text/plain": [
       "                                 query              intent\n",
       "0                I forgot my password.   technical-support\n",
       "1            I need technical support.   technical-support\n",
       "2          How do I reset my password?   technical-support\n",
       "3            How do I update my email?  account-management\n",
       "4          How do I reset my password?   technical-support\n",
       "...                                ...                 ...\n",
       "4995  Can I update my account details?  account-management\n",
       "4996       How can I reset my account?  account-management\n",
       "4997  Can I update my account details?  account-management\n",
       "4998     I can’t log in to my account.   technical-support\n",
       "4999      Tell me about your services.     general-inquiry\n",
       "\n",
       "[5000 rows x 2 columns]"
      ]
     },
     "execution_count": 45,
     "metadata": {},
     "output_type": "execute_result"
    }
   ],
   "source": [
    "dataframe = pd.DataFrame(data)\n",
    "dataframe"
   ]
  },
  {
   "cell_type": "code",
   "execution_count": 46,
   "id": "991d9f2a-f627-4b59-8f88-f2fca1ec2512",
   "metadata": {},
   "outputs": [],
   "source": [
    "queries = dataframe['query']\n",
    "labels = dataframe['intent']"
   ]
  },
  {
   "cell_type": "code",
   "execution_count": 47,
   "id": "6b156974-7ee4-42e4-b77f-3df94cbbef14",
   "metadata": {},
   "outputs": [],
   "source": [
    "model = SentenceTransformer('all-MiniLM-L6-v2')\n",
    "\n",
    "X = model.encode(queries)"
   ]
  },
  {
   "cell_type": "code",
   "execution_count": 52,
   "id": "13997ede-ca03-4430-960e-4ea5e1bfa2f5",
   "metadata": {},
   "outputs": [],
   "source": [
    "clf = LogisticRegression(max_iter = 1000)\n",
    "clf.fit(X, labels)\n",
    "\n",
    "with open('intent_classifier.pkl', 'wb') as f:\n",
    "    pickle.dump(clf, f)"
   ]
  },
  {
   "cell_type": "markdown",
   "id": "2aadaee8-502b-45c1-a563-c9f12404f7cb",
   "metadata": {},
   "source": [
    "# Testing the model "
   ]
  },
  {
   "cell_type": "code",
   "execution_count": 53,
   "id": "1e508135-7d03-4726-b466-451affd48e9e",
   "metadata": {},
   "outputs": [],
   "source": [
    "with open('intent_classifier.pkl', 'rb') as f :\n",
    "    clf = pickle.load(f)"
   ]
  },
  {
   "cell_type": "code",
   "execution_count": 55,
   "id": "f9c1e63a-b508-4b8a-b3d2-e0173b19474c",
   "metadata": {},
   "outputs": [
    {
     "name": "stdout",
     "output_type": "stream",
     "text": [
      "Predicted Label: ['general-inquiry']\n"
     ]
    }
   ],
   "source": [
    "new_query = \"what kinds of products are available here? \"\n",
    "new_emb = model.encode([new_query])\n",
    "predicted_label = clf.predict(new_emb)\n",
    "print(f\"Predicted Label: {predicted_label}\")"
   ]
  },
  {
   "cell_type": "code",
   "execution_count": null,
   "id": "594d6db9-1931-4ad4-b994-c30a4b1cd8d2",
   "metadata": {},
   "outputs": [],
   "source": []
  }
 ],
 "metadata": {
  "kernelspec": {
   "display_name": "Python 3 (ipykernel)",
   "language": "python",
   "name": "python3"
  },
  "language_info": {
   "codemirror_mode": {
    "name": "ipython",
    "version": 3
   },
   "file_extension": ".py",
   "mimetype": "text/x-python",
   "name": "python",
   "nbconvert_exporter": "python",
   "pygments_lexer": "ipython3",
   "version": "3.12.0"
  }
 },
 "nbformat": 4,
 "nbformat_minor": 5
}
