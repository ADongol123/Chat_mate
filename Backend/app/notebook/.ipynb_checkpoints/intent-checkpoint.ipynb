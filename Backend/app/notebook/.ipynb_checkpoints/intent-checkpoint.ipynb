{
 "cells": [
  {
   "cell_type": "code",
   "execution_count": 10,
   "id": "eb58ab77",
   "metadata": {},
   "outputs": [],
   "source": [
    "from fastapi import FastAPI\n",
    "from sentence_transformers import SentenceTransformer\n",
    "import faiss\n",
    "import numpy as np "
   ]
  },
  {
   "cell_type": "code",
   "execution_count": 11,
   "id": "7821d3b0-91e0-4aaf-8f52-c9adca0db973",
   "metadata": {},
   "outputs": [],
   "source": [
    "file_path = \"../data/intent_dataset.json\"\n",
    "\n",
    "try:\n",
    "    with open(file_path,'r') as f:\n",
    "        data = json.load()"
   ]
  },
  {
   "cell_type": "code",
   "execution_count": null,
   "id": "e84be23a-885b-4db5-bc01-b0bb7068e517",
   "metadata": {},
   "outputs": [],
   "source": []
  }
 ],
 "metadata": {
  "kernelspec": {
   "display_name": "Python 3 (ipykernel)",
   "language": "python",
   "name": "python3"
  },
  "language_info": {
   "codemirror_mode": {
    "name": "ipython",
    "version": 3
   },
   "file_extension": ".py",
   "mimetype": "text/x-python",
   "name": "python",
   "nbconvert_exporter": "python",
   "pygments_lexer": "ipython3",
   "version": "3.12.0"
  }
 },
 "nbformat": 4,
 "nbformat_minor": 5
}
