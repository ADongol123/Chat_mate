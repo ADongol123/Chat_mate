{
 "cells": [
  {
   "cell_type": "code",
   "execution_count": 1,
   "id": "5c5fa170-8eb4-4870-8463-65dd749e57a7",
   "metadata": {},
   "outputs": [],
   "source": [
    "import numpy as np\n",
    "import pandas as pd "
   ]
  },
  {
   "cell_type": "code",
   "execution_count": 2,
   "id": "95521934-dadf-4e43-9c61-8e8913a438ef",
   "metadata": {},
   "outputs": [],
   "source": [
    "data_file = \"../data/intent_dataset.json\""
   ]
  },
  {
   "cell_type": "code",
   "execution_count": null,
   "id": "1add52d5-56fd-47bb-81fe-959b7ef12de4",
   "metadata": {},
   "outputs": [],
   "source": [
    "with open(datafile,'r') as f:\n",
    "    pulled_data = "
   ]
  }
 ],
 "metadata": {
  "kernelspec": {
   "display_name": "Python 3 (ipykernel)",
   "language": "python",
   "name": "python3"
  },
  "language_info": {
   "codemirror_mode": {
    "name": "ipython",
    "version": 3
   },
   "file_extension": ".py",
   "mimetype": "text/x-python",
   "name": "python",
   "nbconvert_exporter": "python",
   "pygments_lexer": "ipython3",
   "version": "3.12.0"
  }
 },
 "nbformat": 4,
 "nbformat_minor": 5
}
