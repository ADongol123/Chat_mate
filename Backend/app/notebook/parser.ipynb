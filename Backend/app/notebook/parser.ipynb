{
 "cells": [
  {
   "cell_type": "code",
   "execution_count": 31,
   "id": "0c692d82",
   "metadata": {},
   "outputs": [],
   "source": [
    "import fitz\n",
    "from spacy.lang.en import English\n",
    "from tqdm import tqdm\n",
    "pdf_path = \"../data/data.pdf\"\n",
    "\n",
    "doc = fitz.open(pdf_path)"
   ]
  },
  {
   "cell_type": "code",
   "execution_count": 32,
   "id": "c24fb27f",
   "metadata": {},
   "outputs": [],
   "source": [
    "import fitz  # PyMuPDF\n",
    "import json\n",
    "\n",
    "def simple_parse_pdf(pdf_path = \"../data/data.pdf\"):\n",
    "    doc = fitz.open(pdf_path)\n",
    "\n",
    "    chunks = []\n",
    "\n",
    "    for page_num, page in enumerate(doc):\n",
    "        text = page.get_text(\"text\")\n",
    "        text = text.strip()\n",
    "\n",
    "        if text:\n",
    "            chunks.append({\n",
    "                \"page\": page_num + 1,\n",
    "                \"content\": text\n",
    "            })\n",
    "\n",
    "    return chunks\n"
   ]
  },
  {
   "cell_type": "code",
   "execution_count": 33,
   "id": "9ef23e17",
   "metadata": {},
   "outputs": [],
   "source": [
    "document = simple_parse_pdf()"
   ]
  },
  {
   "cell_type": "code",
   "execution_count": 34,
   "id": "f94d3a6b",
   "metadata": {},
   "outputs": [
    {
     "data": {
      "text/plain": [
       "[{'page': 1,\n",
       "  'content': 'EcoThreads Inc.\\nAbout the Company\\nEcoThreads Inc. is a forward-thinking e-commerce company specializing in eco-friendly clothing. Our mission\\nis to make sustainable fashion accessible and affordable. We offer a variety of stylish and environmentally\\nresponsible apparel for young adults who care about the planet.\\nMission Statement\\nAt EcoThreads Inc., our mission is to revolutionize the fashion industry by offering products that are stylish,\\ncomfortable, and sustainable. We believe that fashion and sustainability can coexist harmoniously.\\nSustainability Practices\\nWe use organic and recycled materials, reduce water consumption during production, and ensure our\\npackaging is biodegradable.\\nTarget Market\\nOur products are designed for eco-conscious consumers aged 18-35 who are passionate about sustainability\\nand ethical fashion.\\nDistribution Channels\\nOur products are sold via our official website, select eco-boutiques, and major online marketplaces.\\nCustomer Testimonials\\nPage 1'},\n",
       " {'page': 2,\n",
       "  'content': 'EcoThreads Inc.\\nOur customers love our comfortable clothing and commend our commitment to the environment. Many have\\nswitched completely to sustainable fashion thanks to EcoThreads.\\nPartnerships\\nWe collaborate with environmental NGOs, sustainable material suppliers, and ethical manufacturers to\\nensure transparency and quality in our supply chain.\\nFuture Goals\\nExpand to international markets, launch a clothing recycling program, and achieve carbon neutrality by 2030.\\nContact Information\\nEmail: contact@ecothreads.com | Phone: (123) 456-7890 | Website: www.ecothreads.com | Instagram:\\n@ecothreads\\nProduct Catalog\\nProduct: Organic Cotton T-Shirt\\nDescription: Made from 100% organic cotton.\\nPrice: $25\\nProduct URL: https://supershop.com/products/organic-cotton-t-shirt\\nProduct: Recycled Polyester Jacket\\nDescription: Crafted from recycled plastic bottles.\\nPage 2'},\n",
       " {'page': 3,\n",
       "  'content': 'EcoThreads Inc.\\nPrice: $60\\nProduct URL: https://supershop.com/products/recycled-polyester-jacket\\nProduct: Bamboo Fiber Socks\\nDescription: Soft and breathable, made from bamboo.\\nPrice: $10\\nProduct URL: https://supershop.com/products/bamboo-fiber-socks\\nProduct: Eco Denim Jeans\\nDescription: Stylish jeans made with water-saving techniques.\\nPrice: $45\\nProduct URL: https://supershop.com/products/eco-denim-jeans\\nProduct: Hemp Hoodie\\nDescription: Durable and sustainable hoodie made from hemp fibers.\\nPrice: $55\\nProduct URL: https://supershop.com/products/hemp-hoodie\\nProduct: Recycled Wool Scarf\\nDescription: Cozy and made from 100% recycled wool.\\nPrice: $35\\nProduct URL: https://supershop.com/products/recycled-wool-scarf\\nProduct: Eco Sneakers\\nPage 3'},\n",
       " {'page': 4,\n",
       "  'content': 'EcoThreads Inc.\\nDescription: Lightweight shoes made from sustainable materials.\\nPrice: $80\\nProduct URL: https://supershop.com/products/eco-sneakers\\nProduct: Biodegradable Rain Jacket\\nDescription: Waterproof and decomposable jacket.\\nPrice: $90\\nProduct URL: https://supershop.com/products/biodegradable-rain-jacket\\nProduct: Sustainable Yoga Mat\\nDescription: Eco-friendly mat with superior grip.\\nPrice: $50\\nProduct URL: https://supershop.com/products/sustainable-yoga-mat\\nProduct: Upcycled Fashion Belt\\nDescription: Stylish belt made from upcycled fabric.\\nPrice: $30\\nProduct URL: https://supershop.com/products/upcycled-fashion-belt\\nProduct: Organic Cotton T-Shirt\\nDescription: Made from 100% organic cotton.\\nPrice: $25\\nProduct URL: https://supershop.com/products/organic-cotton-t-shirt\\nPage 4'},\n",
       " {'page': 5,\n",
       "  'content': 'EcoThreads Inc.\\nProduct: Recycled Polyester Jacket\\nDescription: Crafted from recycled plastic bottles.\\nPrice: $60\\nProduct URL: https://supershop.com/products/recycled-polyester-jacket\\nProduct: Bamboo Fiber Socks\\nDescription: Soft and breathable, made from bamboo.\\nPrice: $10\\nProduct URL: https://supershop.com/products/bamboo-fiber-socks\\nProduct: Eco Denim Jeans\\nDescription: Stylish jeans made with water-saving techniques.\\nPrice: $45\\nProduct URL: https://supershop.com/products/eco-denim-jeans\\nProduct: Hemp Hoodie\\nDescription: Durable and sustainable hoodie made from hemp fibers.\\nPrice: $55\\nProduct URL: https://supershop.com/products/hemp-hoodie\\nProduct: Recycled Wool Scarf\\nDescription: Cozy and made from 100% recycled wool.\\nPrice: $35\\nProduct URL: https://supershop.com/products/recycled-wool-scarf\\nPage 5'},\n",
       " {'page': 6,\n",
       "  'content': 'EcoThreads Inc.\\nProduct: Eco Sneakers\\nDescription: Lightweight shoes made from sustainable materials.\\nPrice: $80\\nProduct URL: https://supershop.com/products/eco-sneakers\\nProduct: Biodegradable Rain Jacket\\nDescription: Waterproof and decomposable jacket.\\nPrice: $90\\nProduct URL: https://supershop.com/products/biodegradable-rain-jacket\\nProduct: Sustainable Yoga Mat\\nDescription: Eco-friendly mat with superior grip.\\nPrice: $50\\nProduct URL: https://supershop.com/products/sustainable-yoga-mat\\nProduct: Upcycled Fashion Belt\\nDescription: Stylish belt made from upcycled fabric.\\nPrice: $30\\nProduct URL: https://supershop.com/products/upcycled-fashion-belt\\nProduct: Organic Cotton T-Shirt\\nDescription: Made from 100% organic cotton.\\nPrice: $25\\nProduct URL: https://supershop.com/products/organic-cotton-t-shirt\\nPage 6'},\n",
       " {'page': 7,\n",
       "  'content': 'EcoThreads Inc.\\nProduct: Recycled Polyester Jacket\\nDescription: Crafted from recycled plastic bottles.\\nPrice: $60\\nProduct URL: https://supershop.com/products/recycled-polyester-jacket\\nProduct: Bamboo Fiber Socks\\nDescription: Soft and breathable, made from bamboo.\\nPrice: $10\\nProduct URL: https://supershop.com/products/bamboo-fiber-socks\\nProduct: Eco Denim Jeans\\nDescription: Stylish jeans made with water-saving techniques.\\nPrice: $45\\nProduct URL: https://supershop.com/products/eco-denim-jeans\\nProduct: Hemp Hoodie\\nDescription: Durable and sustainable hoodie made from hemp fibers.\\nPrice: $55\\nProduct URL: https://supershop.com/products/hemp-hoodie\\nProduct: Recycled Wool Scarf\\nDescription: Cozy and made from 100% recycled wool.\\nPrice: $35\\nProduct URL: https://supershop.com/products/recycled-wool-scarf\\nPage 7'},\n",
       " {'page': 8,\n",
       "  'content': 'EcoThreads Inc.\\nProduct: Eco Sneakers\\nDescription: Lightweight shoes made from sustainable materials.\\nPrice: $80\\nProduct URL: https://supershop.com/products/eco-sneakers\\nProduct: Biodegradable Rain Jacket\\nDescription: Waterproof and decomposable jacket.\\nPrice: $90\\nProduct URL: https://supershop.com/products/biodegradable-rain-jacket\\nProduct: Sustainable Yoga Mat\\nDescription: Eco-friendly mat with superior grip.\\nPrice: $50\\nProduct URL: https://supershop.com/products/sustainable-yoga-mat\\nProduct: Upcycled Fashion Belt\\nDescription: Stylish belt made from upcycled fabric.\\nPrice: $30\\nProduct URL: https://supershop.com/products/upcycled-fashion-belt\\nProduct: Organic Cotton T-Shirt\\nDescription: Made from 100% organic cotton.\\nPrice: $25\\nProduct URL: https://supershop.com/products/organic-cotton-t-shirt\\nPage 8'},\n",
       " {'page': 9,\n",
       "  'content': 'EcoThreads Inc.\\nProduct: Recycled Polyester Jacket\\nDescription: Crafted from recycled plastic bottles.\\nPrice: $60\\nProduct URL: https://supershop.com/products/recycled-polyester-jacket\\nProduct: Bamboo Fiber Socks\\nDescription: Soft and breathable, made from bamboo.\\nPrice: $10\\nProduct URL: https://supershop.com/products/bamboo-fiber-socks\\nProduct: Eco Denim Jeans\\nDescription: Stylish jeans made with water-saving techniques.\\nPrice: $45\\nProduct URL: https://supershop.com/products/eco-denim-jeans\\nProduct: Hemp Hoodie\\nDescription: Durable and sustainable hoodie made from hemp fibers.\\nPrice: $55\\nProduct URL: https://supershop.com/products/hemp-hoodie\\nProduct: Recycled Wool Scarf\\nDescription: Cozy and made from 100% recycled wool.\\nPrice: $35\\nProduct URL: https://supershop.com/products/recycled-wool-scarf\\nPage 9'},\n",
       " {'page': 10,\n",
       "  'content': 'EcoThreads Inc.\\nProduct: Eco Sneakers\\nDescription: Lightweight shoes made from sustainable materials.\\nPrice: $80\\nProduct URL: https://supershop.com/products/eco-sneakers\\nProduct: Biodegradable Rain Jacket\\nDescription: Waterproof and decomposable jacket.\\nPrice: $90\\nProduct URL: https://supershop.com/products/biodegradable-rain-jacket\\nProduct: Sustainable Yoga Mat\\nDescription: Eco-friendly mat with superior grip.\\nPrice: $50\\nProduct URL: https://supershop.com/products/sustainable-yoga-mat\\nProduct: Upcycled Fashion Belt\\nDescription: Stylish belt made from upcycled fabric.\\nPrice: $30\\nProduct URL: https://supershop.com/products/upcycled-fashion-belt\\nPage 10'}]"
      ]
     },
     "execution_count": 34,
     "metadata": {},
     "output_type": "execute_result"
    }
   ],
   "source": [
    "document"
   ]
  },
  {
   "cell_type": "code",
   "execution_count": 35,
   "id": "1ab00ab8",
   "metadata": {},
   "outputs": [
    {
     "name": "stderr",
     "output_type": "stream",
     "text": [
      "Processing Pages: 100%|██████████| 10/10 [00:00<00:00, 606.27it/s]\n"
     ]
    }
   ],
   "source": [
    "nlp = English()\n",
    "\n",
    "nlp.add_pipe(\"sentencizer\")\n",
    "for item in tqdm(document, desc=\"Processing Pages\"):\n",
    "    # Split content into sentences using spaCy\n",
    "    doc = nlp(\" \".join(item['content']))\n",
    "    item['sentences'] = [str(sent) for sent in doc.sents]\n",
    "    \n",
    "    # Store the number of sentences\n",
    "    item['page_sentence_count_spacy'] = len(item['content'])\n"
   ]
  },
  {
   "cell_type": "code",
   "execution_count": 36,
   "id": "b83d5ce9",
   "metadata": {},
   "outputs": [
    {
     "data": {
      "text/plain": [
       "[{'page': 1,\n",
       "  'content': 'EcoThreads Inc.\\nAbout the Company\\nEcoThreads Inc. is a forward-thinking e-commerce company specializing in eco-friendly clothing. Our mission\\nis to make sustainable fashion accessible and affordable. We offer a variety of stylish and environmentally\\nresponsible apparel for young adults who care about the planet.\\nMission Statement\\nAt EcoThreads Inc., our mission is to revolutionize the fashion industry by offering products that are stylish,\\ncomfortable, and sustainable. We believe that fashion and sustainability can coexist harmoniously.\\nSustainability Practices\\nWe use organic and recycled materials, reduce water consumption during production, and ensure our\\npackaging is biodegradable.\\nTarget Market\\nOur products are designed for eco-conscious consumers aged 18-35 who are passionate about sustainability\\nand ethical fashion.\\nDistribution Channels\\nOur products are sold via our official website, select eco-boutiques, and major online marketplaces.\\nCustomer Testimonials\\nPage 1',\n",
       "  'sentences': ['E c o T h r e a d s   I n c .',\n",
       "   '\\n A b o u t   t h e   C o m p a n y \\n E c o T h r e a d s   I n c .',\n",
       "   '  i s   a   f o r w a r d - t h i n k i n g   e - c o m m e r c e   c o m p a n y   s p e c i a l i z i n g   i n   e c o - f r i e n d l y   c l o t h i n g .',\n",
       "   '  O u r   m i s s i o n \\n i s   t o   m a k e   s u s t a i n a b l e   f a s h i o n   a c c e s s i b l e   a n d   a f f o r d a b l e .',\n",
       "   '  W e   o f f e r   a   v a r i e t y   o f   s t y l i s h   a n d   e n v i r o n m e n t a l l y \\n r e s p o n s i b l e   a p p a r e l   f o r   y o u n g   a d u l t s   w h o   c a r e   a b o u t   t h e   p l a n e t .',\n",
       "   '\\n M i s s i o n   S t a t e m e n t \\n A t   E c o T h r e a d s   I n c . ,',\n",
       "   '  o u r   m i s s i o n   i s   t o   r e v o l u t i o n i z e   t h e   f a s h i o n   i n d u s t r y   b y   o f f e r i n g   p r o d u c t s   t h a t   a r e   s t y l i s h , \\n c o m f o r t a b l e ,   a n d   s u s t a i n a b l e .',\n",
       "   '  W e   b e l i e v e   t h a t   f a s h i o n   a n d   s u s t a i n a b i l i t y   c a n   c o e x i s t   h a r m o n i o u s l y .',\n",
       "   '\\n S u s t a i n a b i l i t y   P r a c t i c e s \\n W e   u s e   o r g a n i c   a n d   r e c y c l e d   m a t e r i a l s ,   r e d u c e   w a t e r   c o n s u m p t i o n   d u r i n g   p r o d u c t i o n ,   a n d   e n s u r e   o u r \\n p a c k a g i n g   i s   b i o d e g r a d a b l e .',\n",
       "   '\\n T a r g e t   M a r k e t \\n O u r   p r o d u c t s   a r e   d e s i g n e d   f o r   e c o - c o n s c i o u s   c o n s u m e r s   a g e d   1 8 - 3 5   w h o   a r e   p a s s i o n a t e   a b o u t   s u s t a i n a b i l i t y \\n a n d   e t h i c a l   f a s h i o n .',\n",
       "   '\\n D i s t r i b u t i o n   C h a n n e l s \\n O u r   p r o d u c t s   a r e   s o l d   v i a   o u r   o f f i c i a l   w e b s i t e ,   s e l e c t   e c o - b o u t i q u e s ,   a n d   m a j o r   o n l i n e   m a r k e t p l a c e s .',\n",
       "   '\\n C u s t o m e r   T e s t i m o n i a l s \\n P a g e   1'],\n",
       "  'page_sentence_count_spacy': 985}]"
      ]
     },
     "execution_count": 36,
     "metadata": {},
     "output_type": "execute_result"
    }
   ],
   "source": [
    "import random \n",
    "\n",
    "random.sample(document, k = 1)"
   ]
  },
  {
   "cell_type": "code",
   "execution_count": null,
   "id": "f8299d04",
   "metadata": {},
   "outputs": [],
   "source": []
  }
 ],
 "metadata": {
  "kernelspec": {
   "display_name": "base",
   "language": "python",
   "name": "python3"
  },
  "language_info": {
   "codemirror_mode": {
    "name": "ipython",
    "version": 3
   },
   "file_extension": ".py",
   "mimetype": "text/x-python",
   "name": "python",
   "nbconvert_exporter": "python",
   "pygments_lexer": "ipython3",
   "version": "3.12.7"
  }
 },
 "nbformat": 4,
 "nbformat_minor": 5
}
