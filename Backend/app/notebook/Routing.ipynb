{
 "cells": [
  {
   "cell_type": "code",
   "execution_count": 3,
   "id": "5c5fa170-8eb4-4870-8463-65dd749e57a7",
   "metadata": {},
   "outputs": [],
   "source": [
    "import numpy as np\n",
    "import pandas as pd \n",
    "import json"
   ]
  },
  {
   "cell_type": "code",
   "execution_count": 2,
   "id": "95521934-dadf-4e43-9c61-8e8913a438ef",
   "metadata": {},
   "outputs": [],
   "source": [
    "data_file = \"../data/intent_dataset.json\""
   ]
  },
  {
   "cell_type": "code",
   "execution_count": 5,
   "id": "1add52d5-56fd-47bb-81fe-959b7ef12de4",
   "metadata": {},
   "outputs": [],
   "source": [
    "with open(data_file,'r') as f:\n",
    "    pulled_data = json.load(f)"
   ]
  },
  {
   "cell_type": "code",
   "execution_count": 6,
   "id": "7fd76c28-f631-43d6-809b-d7dfb7b37a16",
   "metadata": {},
   "outputs": [],
   "source": [
    "dataframe = pd.DataFrame(pulled_data)"
   ]
  },
  {
   "cell_type": "code",
   "execution_count": 9,
   "id": "029c2dcb-f5fd-4d46-9a13-a87c0a85e212",
   "metadata": {},
   "outputs": [
    {
     "data": {
      "text/html": [
       "<div>\n",
       "<style scoped>\n",
       "    .dataframe tbody tr th:only-of-type {\n",
       "        vertical-align: middle;\n",
       "    }\n",
       "\n",
       "    .dataframe tbody tr th {\n",
       "        vertical-align: top;\n",
       "    }\n",
       "\n",
       "    .dataframe thead th {\n",
       "        text-align: right;\n",
       "    }\n",
       "</style>\n",
       "<table border=\"1\" class=\"dataframe\">\n",
       "  <thead>\n",
       "    <tr style=\"text-align: right;\">\n",
       "      <th></th>\n",
       "      <th>query</th>\n",
       "      <th>intent</th>\n",
       "    </tr>\n",
       "  </thead>\n",
       "  <tbody>\n",
       "    <tr>\n",
       "      <th>0</th>\n",
       "      <td>I forgot my password.</td>\n",
       "      <td>technical-support</td>\n",
       "    </tr>\n",
       "    <tr>\n",
       "      <th>1</th>\n",
       "      <td>I need technical support.</td>\n",
       "      <td>technical-support</td>\n",
       "    </tr>\n",
       "    <tr>\n",
       "      <th>2</th>\n",
       "      <td>How do I reset my password?</td>\n",
       "      <td>technical-support</td>\n",
       "    </tr>\n",
       "    <tr>\n",
       "      <th>3</th>\n",
       "      <td>How do I update my email?</td>\n",
       "      <td>account-management</td>\n",
       "    </tr>\n",
       "    <tr>\n",
       "      <th>4</th>\n",
       "      <td>How do I reset my password?</td>\n",
       "      <td>technical-support</td>\n",
       "    </tr>\n",
       "  </tbody>\n",
       "</table>\n",
       "</div>"
      ],
      "text/plain": [
       "                         query              intent\n",
       "0        I forgot my password.   technical-support\n",
       "1    I need technical support.   technical-support\n",
       "2  How do I reset my password?   technical-support\n",
       "3    How do I update my email?  account-management\n",
       "4  How do I reset my password?   technical-support"
      ]
     },
     "execution_count": 9,
     "metadata": {},
     "output_type": "execute_result"
    }
   ],
   "source": [
    "dataframe.head()"
   ]
  },
  {
   "cell_type": "code",
   "execution_count": 14,
   "id": "d09cde90-df1f-417b-8f45-f6fb50e717fc",
   "metadata": {},
   "outputs": [],
   "source": [
    "unique_intent = dataframe['intent'].unique()"
   ]
  },
  {
   "cell_type": "code",
   "execution_count": 15,
   "id": "43d050ed-0846-429d-83aa-a60a0a5c47f9",
   "metadata": {},
   "outputs": [
    {
     "data": {
      "text/plain": [
       "array(['technical-support', 'account-management', 'product-related',\n",
       "       'general-inquiry'], dtype=object)"
      ]
     },
     "execution_count": 15,
     "metadata": {},
     "output_type": "execute_result"
    }
   ],
   "source": [
    "unique_intent"
   ]
  },
  {
   "cell_type": "code",
   "execution_count": null,
   "id": "8a608171-f823-460f-90bc-fe903cd243fd",
   "metadata": {},
   "outputs": [],
   "source": []
  }
 ],
 "metadata": {
  "kernelspec": {
   "display_name": "Python 3 (ipykernel)",
   "language": "python",
   "name": "python3"
  },
  "language_info": {
   "codemirror_mode": {
    "name": "ipython",
    "version": 3
   },
   "file_extension": ".py",
   "mimetype": "text/x-python",
   "name": "python",
   "nbconvert_exporter": "python",
   "pygments_lexer": "ipython3",
   "version": "3.12.0"
  }
 },
 "nbformat": 4,
 "nbformat_minor": 5
}
